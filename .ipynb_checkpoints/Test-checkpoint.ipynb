{
 "cells": [
  {
   "cell_type": "code",
   "execution_count": 1,
   "id": "1b04924b-bd1c-458b-8344-f57903a09001",
   "metadata": {},
   "outputs": [],
   "source": [
    "import pandas as pd\n",
    "import numpy as np"
   ]
  },
  {
   "cell_type": "code",
   "execution_count": 2,
   "id": "d5bc4890-d3b0-424d-8ede-ea4738c427c4",
   "metadata": {},
   "outputs": [],
   "source": [
    "from statsmodels.tsa.stattools import acf, pacf"
   ]
  },
  {
   "cell_type": "code",
   "execution_count": 8,
   "id": "7d780d69-1830-46a3-b105-40131dedc854",
   "metadata": {},
   "outputs": [],
   "source": [
    "from statsmodels.tsa.arima_model import ARIMA"
   ]
  },
  {
   "cell_type": "code",
   "execution_count": 9,
   "id": "2ccc6eb9-ba65-43ae-9026-4d6d7b9c3a94",
   "metadata": {},
   "outputs": [],
   "source": [
    "df = pd.read_csv(\"luna-usd-max.csv\")"
   ]
  },
  {
   "cell_type": "code",
   "execution_count": 12,
   "id": "09b621c2-ad53-47dd-aa05-814bea1983e4",
   "metadata": {},
   "outputs": [],
   "source": [
    "df['price_d1'] = df['price'].shift(1)\n",
    "df['returns'] = df['price'] / df['price_d1'] - 1.0"
   ]
  },
  {
   "cell_type": "code",
   "execution_count": 38,
   "id": "46854499-492e-4ad9-a7c0-cdefdbbebeaf",
   "metadata": {},
   "outputs": [
    {
     "data": {
      "text/plain": [
       "(781, 6)"
      ]
     },
     "execution_count": 38,
     "metadata": {},
     "output_type": "execute_result"
    }
   ],
   "source": [
    "df.shape"
   ]
  },
  {
   "cell_type": "code",
   "execution_count": 39,
   "id": "e3a71780-6ea5-4dff-ae85-ce23c3125b8d",
   "metadata": {},
   "outputs": [],
   "source": [
    "# Rolling prediction over the last 200 day\n",
    "# Does it make sense ?"
   ]
  },
  {
   "cell_type": "code",
   "execution_count": 50,
   "id": "c349dd90-f542-4c9d-a7e6-664e58a10039",
   "metadata": {},
   "outputs": [],
   "source": [
    "import warnings\n",
    "warnings.filterwarnings('ignore', 'statsmodels.tsa.arima_model.ARMA',\n",
    "                        FutureWarning)\n",
    "warnings.filterwarnings('ignore', 'statsmodels.tsa.arima_model.ARIMA',\n",
    "                        FutureWarning)"
   ]
  },
  {
   "cell_type": "code",
   "execution_count": 43,
   "id": "c2edb19f-6423-47f4-a202-bed060687eaf",
   "metadata": {},
   "outputs": [],
   "source": [
    "last = df.shape[0]"
   ]
  },
  {
   "cell_type": "code",
   "execution_count": null,
   "id": "6bda982e-a9b1-49dd-8c84-611a3a811cf6",
   "metadata": {
    "scrolled": true,
    "tags": []
   },
   "outputs": [
    {
     "name": "stdout",
     "output_type": "stream",
     "text": [
      "Generating forecast for day:  581\n"
     ]
    },
    {
     "name": "stderr",
     "output_type": "stream",
     "text": [
      "/home/tamnh/notebook/env/lib/python3.8/site-packages/statsmodels/tsa/arima_model.py:472: FutureWarning: \n",
      "statsmodels.tsa.arima_model.ARMA and statsmodels.tsa.arima_model.ARIMA have\n",
      "been deprecated in favor of statsmodels.tsa.arima.model.ARIMA (note the .\n",
      "between arima and model) and\n",
      "statsmodels.tsa.SARIMAX. These will be removed after the 0.12 release.\n",
      "\n",
      "statsmodels.tsa.arima.model.ARIMA makes use of the statespace framework and\n",
      "is both well tested and maintained.\n",
      "\n",
      "To silence this warning and continue using ARMA and ARIMA until they are\n",
      "removed, use:\n",
      "\n",
      "import warnings\n",
      "warnings.filterwarnings('ignore', 'statsmodels.tsa.arima_model.ARMA',\n",
      "                        FutureWarning)\n",
      "warnings.filterwarnings('ignore', 'statsmodels.tsa.arima_model.ARIMA',\n",
      "                        FutureWarning)\n",
      "\n",
      "  warnings.warn(ARIMA_DEPRECATION_WARN, FutureWarning)\n",
      "/home/tamnh/notebook/env/lib/python3.8/site-packages/statsmodels/base/model.py:547: HessianInversionWarning: Inverting hessian failed, no bse or cov_params available\n",
      "  warnings.warn('Inverting hessian failed, no bse or cov_params '\n",
      "/home/tamnh/notebook/env/lib/python3.8/site-packages/statsmodels/tsa/arima_model.py:472: FutureWarning: \n",
      "statsmodels.tsa.arima_model.ARMA and statsmodels.tsa.arima_model.ARIMA have\n",
      "been deprecated in favor of statsmodels.tsa.arima.model.ARIMA (note the .\n",
      "between arima and model) and\n",
      "statsmodels.tsa.SARIMAX. These will be removed after the 0.12 release.\n",
      "\n",
      "statsmodels.tsa.arima.model.ARIMA makes use of the statespace framework and\n",
      "is both well tested and maintained.\n",
      "\n",
      "To silence this warning and continue using ARMA and ARIMA until they are\n",
      "removed, use:\n",
      "\n",
      "import warnings\n",
      "warnings.filterwarnings('ignore', 'statsmodels.tsa.arima_model.ARMA',\n",
      "                        FutureWarning)\n",
      "warnings.filterwarnings('ignore', 'statsmodels.tsa.arima_model.ARIMA',\n",
      "                        FutureWarning)\n",
      "\n",
      "  warnings.warn(ARIMA_DEPRECATION_WARN, FutureWarning)\n"
     ]
    },
    {
     "name": "stdout",
     "output_type": "stream",
     "text": [
      "Generating forecast for day:  582\n",
      "Generating forecast for day:  583\n"
     ]
    },
    {
     "name": "stderr",
     "output_type": "stream",
     "text": [
      "/home/tamnh/notebook/env/lib/python3.8/site-packages/statsmodels/tsa/arima_model.py:472: FutureWarning: \n",
      "statsmodels.tsa.arima_model.ARMA and statsmodels.tsa.arima_model.ARIMA have\n",
      "been deprecated in favor of statsmodels.tsa.arima.model.ARIMA (note the .\n",
      "between arima and model) and\n",
      "statsmodels.tsa.SARIMAX. These will be removed after the 0.12 release.\n",
      "\n",
      "statsmodels.tsa.arima.model.ARIMA makes use of the statespace framework and\n",
      "is both well tested and maintained.\n",
      "\n",
      "To silence this warning and continue using ARMA and ARIMA until they are\n",
      "removed, use:\n",
      "\n",
      "import warnings\n",
      "warnings.filterwarnings('ignore', 'statsmodels.tsa.arima_model.ARMA',\n",
      "                        FutureWarning)\n",
      "warnings.filterwarnings('ignore', 'statsmodels.tsa.arima_model.ARIMA',\n",
      "                        FutureWarning)\n",
      "\n",
      "  warnings.warn(ARIMA_DEPRECATION_WARN, FutureWarning)\n",
      "/home/tamnh/notebook/env/lib/python3.8/site-packages/statsmodels/base/model.py:547: HessianInversionWarning: Inverting hessian failed, no bse or cov_params available\n",
      "  warnings.warn('Inverting hessian failed, no bse or cov_params '\n",
      "/home/tamnh/notebook/env/lib/python3.8/site-packages/statsmodels/tsa/arima_model.py:472: FutureWarning: \n",
      "statsmodels.tsa.arima_model.ARMA and statsmodels.tsa.arima_model.ARIMA have\n",
      "been deprecated in favor of statsmodels.tsa.arima.model.ARIMA (note the .\n",
      "between arima and model) and\n",
      "statsmodels.tsa.SARIMAX. These will be removed after the 0.12 release.\n",
      "\n",
      "statsmodels.tsa.arima.model.ARIMA makes use of the statespace framework and\n",
      "is both well tested and maintained.\n",
      "\n",
      "To silence this warning and continue using ARMA and ARIMA until they are\n",
      "removed, use:\n",
      "\n",
      "import warnings\n",
      "warnings.filterwarnings('ignore', 'statsmodels.tsa.arima_model.ARMA',\n",
      "                        FutureWarning)\n",
      "warnings.filterwarnings('ignore', 'statsmodels.tsa.arima_model.ARIMA',\n",
      "                        FutureWarning)\n",
      "\n",
      "  warnings.warn(ARIMA_DEPRECATION_WARN, FutureWarning)\n"
     ]
    },
    {
     "name": "stdout",
     "output_type": "stream",
     "text": [
      "Generating forecast for day:  584\n"
     ]
    },
    {
     "name": "stderr",
     "output_type": "stream",
     "text": [
      "/home/tamnh/notebook/env/lib/python3.8/site-packages/statsmodels/base/model.py:547: HessianInversionWarning: Inverting hessian failed, no bse or cov_params available\n",
      "  warnings.warn('Inverting hessian failed, no bse or cov_params '\n",
      "/home/tamnh/notebook/env/lib/python3.8/site-packages/statsmodels/tsa/arima_model.py:472: FutureWarning: \n",
      "statsmodels.tsa.arima_model.ARMA and statsmodels.tsa.arima_model.ARIMA have\n",
      "been deprecated in favor of statsmodels.tsa.arima.model.ARIMA (note the .\n",
      "between arima and model) and\n",
      "statsmodels.tsa.SARIMAX. These will be removed after the 0.12 release.\n",
      "\n",
      "statsmodels.tsa.arima.model.ARIMA makes use of the statespace framework and\n",
      "is both well tested and maintained.\n",
      "\n",
      "To silence this warning and continue using ARMA and ARIMA until they are\n",
      "removed, use:\n",
      "\n",
      "import warnings\n",
      "warnings.filterwarnings('ignore', 'statsmodels.tsa.arima_model.ARMA',\n",
      "                        FutureWarning)\n",
      "warnings.filterwarnings('ignore', 'statsmodels.tsa.arima_model.ARIMA',\n",
      "                        FutureWarning)\n",
      "\n",
      "  warnings.warn(ARIMA_DEPRECATION_WARN, FutureWarning)\n"
     ]
    },
    {
     "name": "stdout",
     "output_type": "stream",
     "text": [
      "Generating forecast for day:  585\n"
     ]
    },
    {
     "name": "stderr",
     "output_type": "stream",
     "text": [
      "/home/tamnh/notebook/env/lib/python3.8/site-packages/statsmodels/base/model.py:547: HessianInversionWarning: Inverting hessian failed, no bse or cov_params available\n",
      "  warnings.warn('Inverting hessian failed, no bse or cov_params '\n",
      "/home/tamnh/notebook/env/lib/python3.8/site-packages/statsmodels/tsa/arima_model.py:472: FutureWarning: \n",
      "statsmodels.tsa.arima_model.ARMA and statsmodels.tsa.arima_model.ARIMA have\n",
      "been deprecated in favor of statsmodels.tsa.arima.model.ARIMA (note the .\n",
      "between arima and model) and\n",
      "statsmodels.tsa.SARIMAX. These will be removed after the 0.12 release.\n",
      "\n",
      "statsmodels.tsa.arima.model.ARIMA makes use of the statespace framework and\n",
      "is both well tested and maintained.\n",
      "\n",
      "To silence this warning and continue using ARMA and ARIMA until they are\n",
      "removed, use:\n",
      "\n",
      "import warnings\n",
      "warnings.filterwarnings('ignore', 'statsmodels.tsa.arima_model.ARMA',\n",
      "                        FutureWarning)\n",
      "warnings.filterwarnings('ignore', 'statsmodels.tsa.arima_model.ARIMA',\n",
      "                        FutureWarning)\n",
      "\n",
      "  warnings.warn(ARIMA_DEPRECATION_WARN, FutureWarning)\n"
     ]
    },
    {
     "name": "stdout",
     "output_type": "stream",
     "text": [
      "Generating forecast for day:  586\n"
     ]
    },
    {
     "name": "stderr",
     "output_type": "stream",
     "text": [
      "/home/tamnh/notebook/env/lib/python3.8/site-packages/statsmodels/base/model.py:547: HessianInversionWarning: Inverting hessian failed, no bse or cov_params available\n",
      "  warnings.warn('Inverting hessian failed, no bse or cov_params '\n",
      "/home/tamnh/notebook/env/lib/python3.8/site-packages/statsmodels/tsa/arima_model.py:472: FutureWarning: \n",
      "statsmodels.tsa.arima_model.ARMA and statsmodels.tsa.arima_model.ARIMA have\n",
      "been deprecated in favor of statsmodels.tsa.arima.model.ARIMA (note the .\n",
      "between arima and model) and\n",
      "statsmodels.tsa.SARIMAX. These will be removed after the 0.12 release.\n",
      "\n",
      "statsmodels.tsa.arima.model.ARIMA makes use of the statespace framework and\n",
      "is both well tested and maintained.\n",
      "\n",
      "To silence this warning and continue using ARMA and ARIMA until they are\n",
      "removed, use:\n",
      "\n",
      "import warnings\n",
      "warnings.filterwarnings('ignore', 'statsmodels.tsa.arima_model.ARMA',\n",
      "                        FutureWarning)\n",
      "warnings.filterwarnings('ignore', 'statsmodels.tsa.arima_model.ARIMA',\n",
      "                        FutureWarning)\n",
      "\n",
      "  warnings.warn(ARIMA_DEPRECATION_WARN, FutureWarning)\n"
     ]
    },
    {
     "name": "stdout",
     "output_type": "stream",
     "text": [
      "Generating forecast for day:  587\n"
     ]
    }
   ],
   "source": [
    "result = []\n",
    "\n",
    "for i in range (last - 200, last):\n",
    "    print (\"Generating forecast for day: \", i)\n",
    "    model = ARIMA (df.returns[1: i], order = [5, 0, 2])\n",
    "    fit = model.fit()\n",
    "    prediction = fit.forecast(1)\n",
    "    result.append(prediction[0])"
   ]
  },
  {
   "cell_type": "code",
   "execution_count": null,
   "id": "cf7f8028-ac84-426b-b919-e373d2143014",
   "metadata": {},
   "outputs": [],
   "source": []
  },
  {
   "cell_type": "code",
   "execution_count": 14,
   "id": "8ca71580-9d50-438d-b6f5-723bcfe473dd",
   "metadata": {},
   "outputs": [],
   "source": [
    "model = ARIMA (df.returns[1:], order=[5,0,5])"
   ]
  },
  {
   "cell_type": "code",
   "execution_count": 25,
   "id": "e634c7a0-a3df-4308-9ffe-4f24b31de71f",
   "metadata": {},
   "outputs": [],
   "source": [
    "fit = model.fit()"
   ]
  },
  {
   "cell_type": "code",
   "execution_count": 26,
   "id": "a071e151-be22-4250-95c5-22761fc73c50",
   "metadata": {},
   "outputs": [
    {
     "data": {
      "text/html": [
       "<table class=\"simpletable\">\n",
       "<caption>ARMA Model Results</caption>\n",
       "<tr>\n",
       "  <th>Dep. Variable:</th>      <td>returns</td>     <th>  No. Observations:  </th>    <td>780</td>   \n",
       "</tr>\n",
       "<tr>\n",
       "  <th>Model:</th>            <td>ARMA(5, 5)</td>    <th>  Log Likelihood     </th>  <td>852.993</td> \n",
       "</tr>\n",
       "<tr>\n",
       "  <th>Method:</th>             <td>css-mle</td>     <th>  S.D. of innovations</th>   <td>0.081</td>  \n",
       "</tr>\n",
       "<tr>\n",
       "  <th>Date:</th>          <td>Sun, 27 Jun 2021</td> <th>  AIC                </th> <td>-1681.986</td>\n",
       "</tr>\n",
       "<tr>\n",
       "  <th>Time:</th>              <td>01:23:08</td>     <th>  BIC                </th> <td>-1626.074</td>\n",
       "</tr>\n",
       "<tr>\n",
       "  <th>Sample:</th>                <td>0</td>        <th>  HQIC               </th> <td>-1660.481</td>\n",
       "</tr>\n",
       "<tr>\n",
       "  <th></th>                       <td> </td>        <th>                     </th>     <td> </td>    \n",
       "</tr>\n",
       "</table>\n",
       "<table class=\"simpletable\">\n",
       "<tr>\n",
       "        <td></td>           <th>coef</th>     <th>std err</th>      <th>z</th>      <th>P>|z|</th>  <th>[0.025</th>    <th>0.975]</th>  \n",
       "</tr>\n",
       "<tr>\n",
       "  <th>const</th>         <td>    0.0026</td> <td>    0.007</td> <td>    0.400</td> <td> 0.689</td> <td>   -0.010</td> <td>    0.015</td>\n",
       "</tr>\n",
       "<tr>\n",
       "  <th>ar.L1.returns</th> <td>   -1.6255</td> <td>    0.092</td> <td>  -17.724</td> <td> 0.000</td> <td>   -1.805</td> <td>   -1.446</td>\n",
       "</tr>\n",
       "<tr>\n",
       "  <th>ar.L2.returns</th> <td>   -0.6077</td> <td>    0.138</td> <td>   -4.408</td> <td> 0.000</td> <td>   -0.878</td> <td>   -0.337</td>\n",
       "</tr>\n",
       "<tr>\n",
       "  <th>ar.L3.returns</th> <td>    0.7984</td> <td>    0.085</td> <td>    9.403</td> <td> 0.000</td> <td>    0.632</td> <td>    0.965</td>\n",
       "</tr>\n",
       "<tr>\n",
       "  <th>ar.L4.returns</th> <td>    1.4998</td> <td>    0.132</td> <td>   11.384</td> <td> 0.000</td> <td>    1.242</td> <td>    1.758</td>\n",
       "</tr>\n",
       "<tr>\n",
       "  <th>ar.L5.returns</th> <td>    0.7386</td> <td>    0.113</td> <td>    6.525</td> <td> 0.000</td> <td>    0.517</td> <td>    0.960</td>\n",
       "</tr>\n",
       "<tr>\n",
       "  <th>ma.L1.returns</th> <td>    1.6087</td> <td>    0.102</td> <td>   15.778</td> <td> 0.000</td> <td>    1.409</td> <td>    1.809</td>\n",
       "</tr>\n",
       "<tr>\n",
       "  <th>ma.L2.returns</th> <td>    0.6203</td> <td>    0.150</td> <td>    4.127</td> <td> 0.000</td> <td>    0.326</td> <td>    0.915</td>\n",
       "</tr>\n",
       "<tr>\n",
       "  <th>ma.L3.returns</th> <td>   -0.7741</td> <td>    0.113</td> <td>   -6.879</td> <td> 0.000</td> <td>   -0.995</td> <td>   -0.554</td>\n",
       "</tr>\n",
       "<tr>\n",
       "  <th>ma.L4.returns</th> <td>   -1.3850</td> <td>    0.139</td> <td>   -9.976</td> <td> 0.000</td> <td>   -1.657</td> <td>   -1.113</td>\n",
       "</tr>\n",
       "<tr>\n",
       "  <th>ma.L5.returns</th> <td>   -0.6158</td> <td>    0.127</td> <td>   -4.860</td> <td> 0.000</td> <td>   -0.864</td> <td>   -0.367</td>\n",
       "</tr>\n",
       "</table>\n",
       "<table class=\"simpletable\">\n",
       "<caption>Roots</caption>\n",
       "<tr>\n",
       "    <td></td>   <th>            Real</th>  <th>         Imaginary</th> <th>         Modulus</th>  <th>        Frequency</th>\n",
       "</tr>\n",
       "<tr>\n",
       "  <th>AR.1</th> <td>           1.0204</td> <td>          -0.0000j</td> <td>           1.0204</td> <td>          -0.0000</td>\n",
       "</tr>\n",
       "<tr>\n",
       "  <th>AR.2</th> <td>          -0.4317</td> <td>          -0.9598j</td> <td>           1.0524</td> <td>          -0.3173</td>\n",
       "</tr>\n",
       "<tr>\n",
       "  <th>AR.3</th> <td>          -0.4317</td> <td>          +0.9598j</td> <td>           1.0524</td> <td>           0.3173</td>\n",
       "</tr>\n",
       "<tr>\n",
       "  <th>AR.4</th> <td>          -1.0939</td> <td>          -0.0398j</td> <td>           1.0946</td> <td>          -0.4942</td>\n",
       "</tr>\n",
       "<tr>\n",
       "  <th>AR.5</th> <td>          -1.0939</td> <td>          +0.0398j</td> <td>           1.0946</td> <td>           0.4942</td>\n",
       "</tr>\n",
       "<tr>\n",
       "  <th>MA.1</th> <td>           1.0508</td> <td>          -0.0000j</td> <td>           1.0508</td> <td>          -0.0000</td>\n",
       "</tr>\n",
       "<tr>\n",
       "  <th>MA.2</th> <td>          -0.4732</td> <td>          -0.9533j</td> <td>           1.0642</td> <td>          -0.3233</td>\n",
       "</tr>\n",
       "<tr>\n",
       "  <th>MA.3</th> <td>          -0.4732</td> <td>          +0.9533j</td> <td>           1.0642</td> <td>           0.3233</td>\n",
       "</tr>\n",
       "<tr>\n",
       "  <th>MA.4</th> <td>          -1.0345</td> <td>          -0.0000j</td> <td>           1.0345</td> <td>          -0.5000</td>\n",
       "</tr>\n",
       "<tr>\n",
       "  <th>MA.5</th> <td>          -1.3190</td> <td>          -0.0000j</td> <td>           1.3190</td> <td>          -0.5000</td>\n",
       "</tr>\n",
       "</table>"
      ],
      "text/plain": [
       "<class 'statsmodels.iolib.summary.Summary'>\n",
       "\"\"\"\n",
       "                              ARMA Model Results                              \n",
       "==============================================================================\n",
       "Dep. Variable:                returns   No. Observations:                  780\n",
       "Model:                     ARMA(5, 5)   Log Likelihood                 852.993\n",
       "Method:                       css-mle   S.D. of innovations              0.081\n",
       "Date:                Sun, 27 Jun 2021   AIC                          -1681.986\n",
       "Time:                        01:23:08   BIC                          -1626.074\n",
       "Sample:                             0   HQIC                         -1660.481\n",
       "                                                                              \n",
       "=================================================================================\n",
       "                    coef    std err          z      P>|z|      [0.025      0.975]\n",
       "---------------------------------------------------------------------------------\n",
       "const             0.0026      0.007      0.400      0.689      -0.010       0.015\n",
       "ar.L1.returns    -1.6255      0.092    -17.724      0.000      -1.805      -1.446\n",
       "ar.L2.returns    -0.6077      0.138     -4.408      0.000      -0.878      -0.337\n",
       "ar.L3.returns     0.7984      0.085      9.403      0.000       0.632       0.965\n",
       "ar.L4.returns     1.4998      0.132     11.384      0.000       1.242       1.758\n",
       "ar.L5.returns     0.7386      0.113      6.525      0.000       0.517       0.960\n",
       "ma.L1.returns     1.6087      0.102     15.778      0.000       1.409       1.809\n",
       "ma.L2.returns     0.6203      0.150      4.127      0.000       0.326       0.915\n",
       "ma.L3.returns    -0.7741      0.113     -6.879      0.000      -0.995      -0.554\n",
       "ma.L4.returns    -1.3850      0.139     -9.976      0.000      -1.657      -1.113\n",
       "ma.L5.returns    -0.6158      0.127     -4.860      0.000      -0.864      -0.367\n",
       "                                    Roots                                    \n",
       "=============================================================================\n",
       "                  Real          Imaginary           Modulus         Frequency\n",
       "-----------------------------------------------------------------------------\n",
       "AR.1            1.0204           -0.0000j            1.0204           -0.0000\n",
       "AR.2           -0.4317           -0.9598j            1.0524           -0.3173\n",
       "AR.3           -0.4317           +0.9598j            1.0524            0.3173\n",
       "AR.4           -1.0939           -0.0398j            1.0946           -0.4942\n",
       "AR.5           -1.0939           +0.0398j            1.0946            0.4942\n",
       "MA.1            1.0508           -0.0000j            1.0508           -0.0000\n",
       "MA.2           -0.4732           -0.9533j            1.0642           -0.3233\n",
       "MA.3           -0.4732           +0.9533j            1.0642            0.3233\n",
       "MA.4           -1.0345           -0.0000j            1.0345           -0.5000\n",
       "MA.5           -1.3190           -0.0000j            1.3190           -0.5000\n",
       "-----------------------------------------------------------------------------\n",
       "\"\"\""
      ]
     },
     "execution_count": 26,
     "metadata": {},
     "output_type": "execute_result"
    }
   ],
   "source": [
    "fit.summary()"
   ]
  },
  {
   "cell_type": "code",
   "execution_count": 37,
   "id": "db8ac175-c278-4c66-ab4f-7bdc6c57bcb4",
   "metadata": {},
   "outputs": [
    {
     "data": {
      "text/plain": [
       "array([-0.00303464])"
      ]
     },
     "execution_count": 37,
     "metadata": {},
     "output_type": "execute_result"
    }
   ],
   "source": [
    "fit.forecast(1)[0]"
   ]
  },
  {
   "cell_type": "code",
   "execution_count": 23,
   "id": "42d2bdf9-9e61-47e2-ab56-64118ea01345",
   "metadata": {},
   "outputs": [
    {
     "data": {
      "text/plain": [
       "(779,)"
      ]
     },
     "execution_count": 23,
     "metadata": {},
     "output_type": "execute_result"
    }
   ],
   "source": [
    "predict.shape"
   ]
  },
  {
   "cell_type": "code",
   "execution_count": 24,
   "id": "212ea718-f533-4d90-98f9-cb0e6692900b",
   "metadata": {},
   "outputs": [
    {
     "data": {
      "text/plain": [
       "array([[ 1.        , -0.08108921],\n",
       "       [-0.08108921,  1.        ]])"
      ]
     },
     "execution_count": 24,
     "metadata": {},
     "output_type": "execute_result"
    }
   ],
   "source": [
    "np.corrcoef(predict, df.returns[2:])"
   ]
  },
  {
   "cell_type": "code",
   "execution_count": 53,
   "id": "0ddb3f02-6436-401d-bc92-7aa215b201cc",
   "metadata": {},
   "outputs": [
    {
     "data": {
      "text/html": [
       "<table class=\"simpletable\">\n",
       "<caption>ARMA Model Results</caption>\n",
       "<tr>\n",
       "  <th>Dep. Variable:</th>      <td>returns</td>     <th>  No. Observations:  </th>    <td>780</td>   \n",
       "</tr>\n",
       "<tr>\n",
       "  <th>Model:</th>            <td>ARMA(5, 5)</td>    <th>  Log Likelihood     </th>  <td>852.993</td> \n",
       "</tr>\n",
       "<tr>\n",
       "  <th>Method:</th>             <td>css-mle</td>     <th>  S.D. of innovations</th>   <td>0.081</td>  \n",
       "</tr>\n",
       "<tr>\n",
       "  <th>Date:</th>          <td>Sat, 26 Jun 2021</td> <th>  AIC                </th> <td>-1681.986</td>\n",
       "</tr>\n",
       "<tr>\n",
       "  <th>Time:</th>              <td>22:18:23</td>     <th>  BIC                </th> <td>-1626.074</td>\n",
       "</tr>\n",
       "<tr>\n",
       "  <th>Sample:</th>                <td>0</td>        <th>  HQIC               </th> <td>-1660.481</td>\n",
       "</tr>\n",
       "<tr>\n",
       "  <th></th>                       <td> </td>        <th>                     </th>     <td> </td>    \n",
       "</tr>\n",
       "</table>\n",
       "<table class=\"simpletable\">\n",
       "<tr>\n",
       "        <td></td>           <th>coef</th>     <th>std err</th>      <th>z</th>      <th>P>|z|</th>  <th>[0.025</th>    <th>0.975]</th>  \n",
       "</tr>\n",
       "<tr>\n",
       "  <th>const</th>         <td>    0.0026</td> <td>    0.007</td> <td>    0.400</td> <td> 0.689</td> <td>   -0.010</td> <td>    0.015</td>\n",
       "</tr>\n",
       "<tr>\n",
       "  <th>ar.L1.returns</th> <td>   -1.6255</td> <td>    0.092</td> <td>  -17.724</td> <td> 0.000</td> <td>   -1.805</td> <td>   -1.446</td>\n",
       "</tr>\n",
       "<tr>\n",
       "  <th>ar.L2.returns</th> <td>   -0.6077</td> <td>    0.138</td> <td>   -4.408</td> <td> 0.000</td> <td>   -0.878</td> <td>   -0.337</td>\n",
       "</tr>\n",
       "<tr>\n",
       "  <th>ar.L3.returns</th> <td>    0.7984</td> <td>    0.085</td> <td>    9.403</td> <td> 0.000</td> <td>    0.632</td> <td>    0.965</td>\n",
       "</tr>\n",
       "<tr>\n",
       "  <th>ar.L4.returns</th> <td>    1.4998</td> <td>    0.132</td> <td>   11.384</td> <td> 0.000</td> <td>    1.242</td> <td>    1.758</td>\n",
       "</tr>\n",
       "<tr>\n",
       "  <th>ar.L5.returns</th> <td>    0.7386</td> <td>    0.113</td> <td>    6.525</td> <td> 0.000</td> <td>    0.517</td> <td>    0.960</td>\n",
       "</tr>\n",
       "<tr>\n",
       "  <th>ma.L1.returns</th> <td>    1.6087</td> <td>    0.102</td> <td>   15.778</td> <td> 0.000</td> <td>    1.409</td> <td>    1.809</td>\n",
       "</tr>\n",
       "<tr>\n",
       "  <th>ma.L2.returns</th> <td>    0.6203</td> <td>    0.150</td> <td>    4.127</td> <td> 0.000</td> <td>    0.326</td> <td>    0.915</td>\n",
       "</tr>\n",
       "<tr>\n",
       "  <th>ma.L3.returns</th> <td>   -0.7741</td> <td>    0.113</td> <td>   -6.879</td> <td> 0.000</td> <td>   -0.995</td> <td>   -0.554</td>\n",
       "</tr>\n",
       "<tr>\n",
       "  <th>ma.L4.returns</th> <td>   -1.3850</td> <td>    0.139</td> <td>   -9.976</td> <td> 0.000</td> <td>   -1.657</td> <td>   -1.113</td>\n",
       "</tr>\n",
       "<tr>\n",
       "  <th>ma.L5.returns</th> <td>   -0.6158</td> <td>    0.127</td> <td>   -4.860</td> <td> 0.000</td> <td>   -0.864</td> <td>   -0.367</td>\n",
       "</tr>\n",
       "</table>\n",
       "<table class=\"simpletable\">\n",
       "<caption>Roots</caption>\n",
       "<tr>\n",
       "    <td></td>   <th>            Real</th>  <th>         Imaginary</th> <th>         Modulus</th>  <th>        Frequency</th>\n",
       "</tr>\n",
       "<tr>\n",
       "  <th>AR.1</th> <td>           1.0204</td> <td>          -0.0000j</td> <td>           1.0204</td> <td>          -0.0000</td>\n",
       "</tr>\n",
       "<tr>\n",
       "  <th>AR.2</th> <td>          -0.4317</td> <td>          -0.9598j</td> <td>           1.0524</td> <td>          -0.3173</td>\n",
       "</tr>\n",
       "<tr>\n",
       "  <th>AR.3</th> <td>          -0.4317</td> <td>          +0.9598j</td> <td>           1.0524</td> <td>           0.3173</td>\n",
       "</tr>\n",
       "<tr>\n",
       "  <th>AR.4</th> <td>          -1.0939</td> <td>          -0.0398j</td> <td>           1.0946</td> <td>          -0.4942</td>\n",
       "</tr>\n",
       "<tr>\n",
       "  <th>AR.5</th> <td>          -1.0939</td> <td>          +0.0398j</td> <td>           1.0946</td> <td>           0.4942</td>\n",
       "</tr>\n",
       "<tr>\n",
       "  <th>MA.1</th> <td>           1.0508</td> <td>          -0.0000j</td> <td>           1.0508</td> <td>          -0.0000</td>\n",
       "</tr>\n",
       "<tr>\n",
       "  <th>MA.2</th> <td>          -0.4732</td> <td>          -0.9533j</td> <td>           1.0642</td> <td>          -0.3233</td>\n",
       "</tr>\n",
       "<tr>\n",
       "  <th>MA.3</th> <td>          -0.4732</td> <td>          +0.9533j</td> <td>           1.0642</td> <td>           0.3233</td>\n",
       "</tr>\n",
       "<tr>\n",
       "  <th>MA.4</th> <td>          -1.0345</td> <td>          -0.0000j</td> <td>           1.0345</td> <td>          -0.5000</td>\n",
       "</tr>\n",
       "<tr>\n",
       "  <th>MA.5</th> <td>          -1.3190</td> <td>          -0.0000j</td> <td>           1.3190</td> <td>          -0.5000</td>\n",
       "</tr>\n",
       "</table>"
      ],
      "text/plain": [
       "<class 'statsmodels.iolib.summary.Summary'>\n",
       "\"\"\"\n",
       "                              ARMA Model Results                              \n",
       "==============================================================================\n",
       "Dep. Variable:                returns   No. Observations:                  780\n",
       "Model:                     ARMA(5, 5)   Log Likelihood                 852.993\n",
       "Method:                       css-mle   S.D. of innovations              0.081\n",
       "Date:                Sat, 26 Jun 2021   AIC                          -1681.986\n",
       "Time:                        22:18:23   BIC                          -1626.074\n",
       "Sample:                             0   HQIC                         -1660.481\n",
       "                                                                              \n",
       "=================================================================================\n",
       "                    coef    std err          z      P>|z|      [0.025      0.975]\n",
       "---------------------------------------------------------------------------------\n",
       "const             0.0026      0.007      0.400      0.689      -0.010       0.015\n",
       "ar.L1.returns    -1.6255      0.092    -17.724      0.000      -1.805      -1.446\n",
       "ar.L2.returns    -0.6077      0.138     -4.408      0.000      -0.878      -0.337\n",
       "ar.L3.returns     0.7984      0.085      9.403      0.000       0.632       0.965\n",
       "ar.L4.returns     1.4998      0.132     11.384      0.000       1.242       1.758\n",
       "ar.L5.returns     0.7386      0.113      6.525      0.000       0.517       0.960\n",
       "ma.L1.returns     1.6087      0.102     15.778      0.000       1.409       1.809\n",
       "ma.L2.returns     0.6203      0.150      4.127      0.000       0.326       0.915\n",
       "ma.L3.returns    -0.7741      0.113     -6.879      0.000      -0.995      -0.554\n",
       "ma.L4.returns    -1.3850      0.139     -9.976      0.000      -1.657      -1.113\n",
       "ma.L5.returns    -0.6158      0.127     -4.860      0.000      -0.864      -0.367\n",
       "                                    Roots                                    \n",
       "=============================================================================\n",
       "                  Real          Imaginary           Modulus         Frequency\n",
       "-----------------------------------------------------------------------------\n",
       "AR.1            1.0204           -0.0000j            1.0204           -0.0000\n",
       "AR.2           -0.4317           -0.9598j            1.0524           -0.3173\n",
       "AR.3           -0.4317           +0.9598j            1.0524            0.3173\n",
       "AR.4           -1.0939           -0.0398j            1.0946           -0.4942\n",
       "AR.5           -1.0939           +0.0398j            1.0946            0.4942\n",
       "MA.1            1.0508           -0.0000j            1.0508           -0.0000\n",
       "MA.2           -0.4732           -0.9533j            1.0642           -0.3233\n",
       "MA.3           -0.4732           +0.9533j            1.0642            0.3233\n",
       "MA.4           -1.0345           -0.0000j            1.0345           -0.5000\n",
       "MA.5           -1.3190           -0.0000j            1.3190           -0.5000\n",
       "-----------------------------------------------------------------------------\n",
       "\"\"\""
      ]
     },
     "execution_count": 53,
     "metadata": {},
     "output_type": "execute_result"
    }
   ],
   "source": [
    "fit.summary()"
   ]
  },
  {
   "cell_type": "code",
   "execution_count": null,
   "id": "be1d1ebd-9f3d-4189-9d83-3ab005bb8aa9",
   "metadata": {},
   "outputs": [],
   "source": []
  }
 ],
 "metadata": {
  "kernelspec": {
   "display_name": "Python 3",
   "language": "python",
   "name": "python3"
  },
  "language_info": {
   "codemirror_mode": {
    "name": "ipython",
    "version": 3
   },
   "file_extension": ".py",
   "mimetype": "text/x-python",
   "name": "python",
   "nbconvert_exporter": "python",
   "pygments_lexer": "ipython3",
   "version": "3.8.5"
  }
 },
 "nbformat": 4,
 "nbformat_minor": 5
}
